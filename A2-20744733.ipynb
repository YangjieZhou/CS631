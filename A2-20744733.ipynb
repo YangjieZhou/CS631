{
 "cells": [
  {
   "cell_type": "markdown",
   "metadata": {},
   "source": [
    "## CS431/631 Big Data Infrastructure\n",
    "### Winter 2018 - Assignment 2\n",
    "---"
   ]
  },
  {
   "cell_type": "markdown",
   "metadata": {},
   "source": [
    "**Please edit this (text) cell to provide your name and UW student ID number!**\n",
    "* **Name:** _Yangjie Zhou_\n",
    "* **ID:** _20744733_"
   ]
  },
  {
   "cell_type": "markdown",
   "metadata": {},
   "source": [
    "---\n",
    "#### Overview\n",
    "For this assignment, you will be using Python and Spark to analyze the [pointwise mutual information (PMI)](http://en.wikipedia.org/wiki/Pointwise_mutual_information) of tokens in the text of Shakespeare's plays.    For this assignment, you will need the same text file (`Shakespeare.txt`) and Python tokenizer module, `simple_tokenize.py`, that you used for the first two assignments.    You will also use the same definition of PMI that was used for [Assignment 1](https://lintool.github.io/bigdata-2018w/assignment1-431.html).\n",
    "\n",
    "To use Spark from within a Python program, it is first necessary to tell the Python interpreter where the Spark installation is located.   You will be using the Spark installation in the CS451 course account.   The code in the following cell tells Python how to find this Spark installation.   Before going on, execute that code (by selecting the cell and hitting 'return' while holding down the shift key).   It will take a few seconds to run, and will produce no output."
   ]
  },
  {
   "cell_type": "code",
   "execution_count": 1,
   "metadata": {},
   "outputs": [],
   "source": [
    "import findspark\n",
    "findspark.init(\"/u/cs451/packages/spark\")\n",
    "\n",
    "from pyspark import SparkContext, SparkConf"
   ]
  },
  {
   "cell_type": "markdown",
   "metadata": {},
   "source": [
    "Once Python knows where Spark is located, you can create a `SparkContext`.   All Spark commands must run within an active `SparkContext`.   The code below will create a `SparkContext`, and store a reference to the context in the variable `sc`. \n",
    "The `appName` parameter assigns a name of your choosing to the Spark jobs that are created in this context - this is useful mostly for debugging.   The `master` parameter indicates that Spark jobs will run in local mode, using two threads.   This means that your Spark jobs are not really running on a cluster (since we do not have a Spark cluster in the CS student computing environment), and are instead running in a single process on the local machine.   You program Spark jobs the same way whether they run in local mode or on a cluster - the main difference between local and cluster modes is, of course, performance.\n",
    "\n",
    "Run the code in the cell below to create a Spark context.   Creating the `SparkContext` causes your Python program (running in this notebook) to prepare to run Spark jobs, and will take a few seconds to complete.  Be sure that you run this code only one time, because a single Python program may only have one active SparkContext."
   ]
  },
  {
   "cell_type": "code",
   "execution_count": 2,
   "metadata": {},
   "outputs": [],
   "source": [
    "sc = SparkContext(appName=\"YourTest\", master=\"local[2]\")"
   ]
  },
  {
   "cell_type": "markdown",
   "metadata": {},
   "source": [
    "Next, let's test that your `SparkContext` has been set up properly by running some simple test code (adapted from the [Spark examples page](https://spark.apache.org/examples.html)).   This code uses a single Spark job to estimate the value of $\\pi$.  `parallelize()` and `filter()` are Spark *transformations*, and `count()` is a Spark *action*.   Study the code in the cell below, then go ahead and run it.   It should take a few seconds, since a Spark job is being created and executed, and should print an estimate of $\\pi$ when it finishes.   "
   ]
  },
  {
   "cell_type": "code",
   "execution_count": 3,
   "metadata": {},
   "outputs": [
    {
     "name": "stdout",
     "output_type": "stream",
     "text": [
      "3.14173232\n"
     ]
    }
   ],
   "source": [
    "import random\n",
    "\n",
    "num_samples = 100000000\n",
    "\n",
    "def inside(p):     \n",
    "  x, y = random.random(), random.random()\n",
    "  return x*x + y*y < 1\n",
    "\n",
    "count = sc.parallelize(range(0, num_samples)).filter(inside).count()\n",
    "\n",
    "pi_estimate = 4 * count / num_samples\n",
    "print(pi_estimate)"
   ]
  },
  {
   "cell_type": "markdown",
   "metadata": {},
   "source": [
    "---\n",
    "#### Question 1  (4/30 marks):\n",
    "\n",
    "In the following cell, briefly explain how the $\\pi$-estimation example works.   What is the Spark job doing, and how is it used to estimate the value of $\\pi$?"
   ]
  },
  {
   "cell_type": "markdown",
   "metadata": {},
   "source": [
    "#### Your answer to Question 1:\n",
    "\n",
    "*The transformation **parallelize()** claim the interger list of length 100000000 to be the RDD, of which each interger can be regarded as the index of each sample.* \n",
    "\n",
    "*The following transformation **filter()** will just keep the point as the function **inside** return TRUE, Defining the dependency between the son RDD with the father RDD.*\n",
    "\n",
    "*The final action **count()** will compute how many points are left after the **filter()**, activating the program to process.*\n",
    "\n",
    "___\n",
    "\n",
    "* *This estimation uses the Marto Carlo method for the integral operation of the quadrntnt by the $count/num\\_sample$. Finally, according to formula for the aera of circle $\\pi r^2$ where r is equal to 1, the $\\pi$ is equal to the 4 times the estimated quadrntnt area.*"
   ]
  },
  {
   "cell_type": "markdown",
   "metadata": {},
   "source": [
    "---\n",
    "#### Question 2  (4/30 marks):\n",
    "\n",
    "Now it is your turn to write some Spark programs.   Start with the simple task of counting the number of *distinct* tokens which appear in `Shakespeare.txt`.   You have already written Python code to do this in Assignment 1, but for this assignment we want you to use Spark to solve the same problem.   You should compare the answer you get using Spark with the answer you got from your pure-Python solution from Assignment 1.   Both answers should, of course, be the same.\n",
    "\n",
    "Your code should use Spark, not the Python driver code, to read `Shakespeare.txt` and do the counting.   The idea is to use Spark to give you a data-parallel alternative to the sequential Python solution you wrote for Assignment 1.\n",
    "\n",
    "Write your solution for in the code cell below.   It should use the `SparkContext` which was created previously (referenced by the variable `sc`), and it should print the number of distinct tokens."
   ]
  },
  {
   "cell_type": "code",
   "execution_count": 4,
   "metadata": {},
   "outputs": [
    {
     "name": "stdout",
     "output_type": "stream",
     "text": [
      "25975\n"
     ]
    }
   ],
   "source": [
    "# your solution to Question 2 here\n",
    "from simple_tokenize import simple_tokenize\n",
    "from operator import add\n",
    "\n",
    "text=sc.textFile(\"Shakespeare.txt\")\n",
    "counts=text.flatMap(simple_tokenize) \\\n",
    "             .map(lambda word: (word, 1)) \\\n",
    "             .reduceByKey(add).count()\n",
    "print(counts)"
   ]
  },
  {
   "cell_type": "markdown",
   "metadata": {},
   "source": [
    "---\n",
    "#### Question 3  (4/30 marks):\n",
    "\n",
    "Next, write a Spark program that will count the number of distinct token pairs in `Shakespeare.txt`, as you did in Assignment 1.   Again, ensure that the answer that you get using Spark matches the answer you got in the first assignment.\n",
    "\n",
    "Write your solution for in the code cell below.   It should use the `SparkContext` which was created previously (referenced by the variable `sc`), and it should print the number of distinct token pairs."
   ]
  },
  {
   "cell_type": "code",
   "execution_count": 5,
   "metadata": {},
   "outputs": [
    {
     "name": "stdout",
     "output_type": "stream",
     "text": [
      "1969760\n"
     ]
    }
   ],
   "source": [
    "# your solution to Question 3 here\n",
    "from simple_tokenize import simple_tokenize\n",
    "from itertools import permutations\n",
    "from operator import add\n",
    "\n",
    "def simple_pairize(line):\n",
    "    t = simple_tokenize(line)\n",
    "    pairs=[]\n",
    "    for pair in permutations(set(t), 2):\n",
    "        pairs.append(pair)\n",
    "    return pairs\n",
    "    \n",
    "text=sc.textFile(\"Shakespeare.txt\")\n",
    "counts=text.flatMap(simple_pairize) \\\n",
    "             .map(lambda pair: (pair, 1)) \\\n",
    "             .reduceByKey(add).count()\n",
    "print(counts)"
   ]
  },
  {
   "cell_type": "markdown",
   "metadata": {},
   "source": [
    "---\n",
    "#### Question 4  (6/30 marks):\n",
    "\n",
    "Next, write Spark code that will calculate $n(x)$ and $p(x)$ (as defined in Assignment 1) for every distinct token $x$ in `Shakespeare.txt`.   Your code should report (print) the 50 highest-probability tokens, and their probabilities.\n",
    "\n",
    "Make sure that your solution calculates $n(x)$ and $p(x)$ and identifies the 50 highest-probability tokens in a data-parallel fashion, using Spark transformations and actions.   Only the 50 highest-probability tokens (and their probabilities) should be returned by Spark to your driver code.\n",
    "\n",
    "Write your solution for in the code cell below.   It should use the `SparkContext` which was created previously (referenced by the variable `sc`), and it should print the 50 highest-probability tokens, along with their counts ($n(x)$) and probabilities ($p(x)$)."
   ]
  },
  {
   "cell_type": "code",
   "execution_count": 6,
   "metadata": {},
   "outputs": [
    {
     "name": "stdout",
     "output_type": "stream",
     "text": [
      "('the', (27378, 0.030855264937383355))\n",
      "('and', (26082, 0.029394660679992426))\n",
      "('i', (20717, 0.023348254938555444))\n",
      "('to', (19661, 0.022158132951051724))\n",
      "('of', (17473, 0.01969223625724667))\n",
      "('a', (14723, 0.0165929602481224))\n",
      "('you', (13630, 0.015361138910677738))\n",
      "('my', (12490, 0.014076348128713495))\n",
      "('in', (10996, 0.01239259599866562))\n",
      "('that', (10915, 0.012301308232578688))\n",
      "('is', (9137, 0.010297485416497614))\n",
      "('not', (8512, 0.009593104505333008))\n",
      "('with', (7778, 0.008765879563261294))\n",
      "('me', (7777, 0.00876475255380343))\n",
      "('it', (7692, 0.008668956749885045))\n",
      "('for', (7578, 0.00854047767168862))\n",
      "('be', (6867, 0.007739173947147764))\n",
      "('his', (6859, 0.007730157871484858))\n",
      "('your', (6657, 0.007502501960996457))\n",
      "('this', (6606, 0.007445024478645425))\n",
      "('but', (6277, 0.007074238367008376))\n",
      "('he', (6260, 0.0070550792062246985))\n",
      "('have', (5885, 0.0066324506595259345))\n",
      "('as', (5744, 0.0064735423259672))\n",
      "('thou', (5491, 0.006188408933127767))\n",
      "('him', (5205, 0.005866084228178843))\n",
      "('so', (5056, 0.005698159818957201))\n",
      "('will', (4977, 0.0056091260717859946))\n",
      "('what', (4469, 0.005036605267191402))\n",
      "('thy', (4034, 0.004546356153020836))\n",
      "('all', (3923, 0.004421258103198002))\n",
      "('her', (3850, 0.004338986412773976))\n",
      "('no', (3797, 0.0042792549115072175))\n",
      "('by', (3768, 0.004246571637229179))\n",
      "('do', (3753, 0.0042296664953612294))\n",
      "('shall', (3592, 0.004048217972645226))\n",
      "('if', (3500, 0.003944533102521797))\n",
      "('are', (3405, 0.003837467204024776))\n",
      "('we', (3298, 0.0037168771920333956))\n",
      "('thee', (3180, 0.003583890076005518))\n",
      "('on', (3062, 0.00345090295997764))\n",
      "('lord', (3062, 0.00345090295997764))\n",
      "('our', (3061, 0.0034497759505197766))\n",
      "('king', (2871, 0.0032356441535257366))\n",
      "('good', (2834, 0.003193944803584792))\n",
      "('now', (2789, 0.00314322937798094))\n",
      "('sir', (2763, 0.0031139271320764924))\n",
      "('from', (2640, 0.002975304968759298))\n",
      "('o', (2621, 0.002953891789059894))\n",
      "('come', (2519, 0.00283893682435783))\n"
     ]
    }
   ],
   "source": [
    "# your solution to Question 4 here\n",
    "from simple_tokenize import simple_tokenize\n",
    "from operator import add\n",
    "\n",
    "text=sc.textFile(\"Shakespeare.txt\")\n",
    "\n",
    "num=text.flatMap(simple_tokenize) \\\n",
    "             .count()\n",
    "tokens=text.flatMap(simple_tokenize) \\\n",
    "             .map(lambda word: (word, 1)) \\\n",
    "             .reduceByKey(add) \\\n",
    "             .mapValues(lambda x: (x,x/num)) \\\n",
    "             .sortBy(lambda x:x[1][1],False).take(50)\n",
    "for i in tokens:\n",
    "    print(i)\n"
   ]
  },
  {
   "cell_type": "markdown",
   "metadata": {},
   "source": [
    "---\n",
    "#### Question 5  (6/30 marks):\n",
    "\n",
    "Next, write Spark code that will prompt the user to input a positive integer threshold $T$, and then print all token pairs that co-occur at least $T$ times in `Shakespeare.txt`.   For each such pair $(x,y)$, the program should also report $n(x,y)$ and PMI$(x,y)$.    You can compare the results produced by this code with the results of Two-Token queries (from Assignment 1) for consistency.\n",
    "\n",
    "As always, calculations should be done in data-parallel fashion by using Spark."
   ]
  },
  {
   "cell_type": "code",
   "execution_count": 7,
   "metadata": {},
   "outputs": [
    {
     "name": "stdout",
     "output_type": "stream",
     "text": [
      "Input a positive integer frequency threshold(press return to exit): 2500\n",
      "(('a', 'and'), (2672, -0.06692767769672042))\n",
      "(('and', 'a'), (2672, -0.06692767769672042))\n",
      "(('and', 'i'), (3338, -0.1186083531155394))\n",
      "(('and', 'of'), (3565, -0.016075762136901896))\n",
      "(('and', 'the'), (5427, -0.028609716990176635))\n",
      "(('and', 'to'), (3815, -0.037878880315267205))\n",
      "(('i', 'and'), (3338, -0.1186083531155394))\n",
      "(('i', 'my'), (2586, 0.09031228728595314))\n",
      "(('i', 'the'), (3058, -0.1777180329642898))\n",
      "(('i', 'to'), (3095, -0.028698744720967992))\n",
      "(('i', 'you'), (2854, 0.09520431805966799))\n",
      "(('in', 'the'), (2863, 0.06875796885499567))\n",
      "(('my', 'i'), (2586, 0.09031228728595314))\n",
      "(('of', 'and'), (3565, -0.016075762136901896))\n",
      "(('of', 'the'), (7266, 0.27209926862008577))\n",
      "(('the', 'and'), (5427, -0.028609716990176635))\n",
      "(('the', 'i'), (3058, -0.1777180329642898))\n",
      "(('the', 'in'), (2863, 0.06875796885499567))\n",
      "(('the', 'of'), (7266, 0.27209926862008577))\n",
      "(('the', 'to'), (4072, -0.03062648185928795))\n",
      "(('to', 'and'), (3815, -0.037878880315267205))\n",
      "(('to', 'i'), (3095, -0.028698744720967992))\n",
      "(('to', 'the'), (4072, -0.03062648185928795))\n",
      "(('you', 'i'), (2854, 0.09520431805966799))\n",
      "Input a positive integer frequency threshold(press return to exit): \n"
     ]
    }
   ],
   "source": [
    "# your solution to Question 5 here\n",
    "from simple_tokenize import simple_tokenize\n",
    "from itertools import permutations\n",
    "from operator import add\n",
    "from math import log\n",
    "\n",
    "def simple_pairize(line):\n",
    "    t = simple_tokenize(line)\n",
    "    pairs=[]\n",
    "    for pair in permutations(set(t), 2):\n",
    "        pairs.append(pair)\n",
    "    return pairs\n",
    "\n",
    "def PMI(x):\n",
    "    p=(x[1]/num_pairs)/(tokens[x[0][0]]*tokens[x[0][1]])\n",
    "    return (x[0],(x[1],log(p,10)))\n",
    "\n",
    "while True:\n",
    "    try:\n",
    "        threshold = input(\"Input a positive integer frequency threshold(press return to exit): \")\n",
    "        if len(threshold) == 0:\n",
    "            break\n",
    "        if int(threshold) < 0:\n",
    "            continue\n",
    "        else:\n",
    "            threshold=int(threshold)\n",
    "    except ValueError:\n",
    "        print(\"Threshold must be a positive integer!\")\n",
    "        continue\n",
    "    \n",
    "    # Spark park    \n",
    "    text=sc.textFile(\"Shakespeare.txt\")\n",
    "    \n",
    "    num_tokens=text.flatMap(simple_tokenize).count()\n",
    "    num_pairs=text.flatMap(simple_pairize).count()\n",
    "    \n",
    "    tokens=text.flatMap(simple_tokenize) \\\n",
    "                 .map(lambda word: (word, 1)) \\\n",
    "                 .reduceByKey(add).mapValues(lambda x: x/num_tokens).collectAsMap()\n",
    "    \n",
    "    pairs=text.flatMap(simple_pairize) \\\n",
    "         .map(lambda pair: (pair, 1)) \\\n",
    "         .reduceByKey(add)\\\n",
    "        .filter(lambda x:x[1]>=threshold)\\\n",
    "        .map(PMI)\\\n",
    "        .sortByKey()\\\n",
    "        .collect()\n",
    "    for pair in pairs:\n",
    "        print(pair)"
   ]
  },
  {
   "cell_type": "markdown",
   "metadata": {},
   "source": [
    "## ---\n",
    "#### Question 6  (6/30 marks):\n",
    "\n",
    "Finally, write Spark code that will prompt the user for two inputs: a positive integer threshold $T$, and a sample size $N$.   For every token $x$ in `Shakespeare.txt`, your code should find all tokens $y$ that co-occur with $x$ at least $T$ times, as well as PMI$(x,y)$ for each such pair.\n",
    "\n",
    "For each $x$, the output of your program should be similar to the output that would be produced by a One-Token query on $x$ (see Assignment 1), with threshold $T$ - except that here you report all co-occuring tokens above the threshold, rather than just five.   Rather than producing output for all possible tokens $x$, your program should produce output only for $N$ different $x$'s, chosen *at random* from among all distinct tokens in the input file.\n"
   ]
  },
  {
   "cell_type": "code",
   "execution_count": null,
   "metadata": {},
   "outputs": [
    {
     "name": "stdout",
     "output_type": "stream",
     "text": [
      "Input a positive integer frequency threshold(press return to exit): 20\n",
      "Input a positive integer sample size N: 10\n",
      "('beg', [('and', 26, 0.11148192326862193), ('i', 34, 0.32800151686912077), ('to', 31, 0.3106055565137391)])\n",
      "    n(beg,and) = 26,  PMI(beg,and) = 0.11148192326862193 \n",
      "\n",
      "    n(beg,i) = 34,  PMI(beg,i) = 0.32800151686912077 \n",
      "\n",
      "    n(beg,to) = 31,  PMI(beg,to) = 0.3106055565137391 \n",
      "\n",
      "('coarse', [])\n",
      "    coarse don't have tokens co-occured with at least 20 times \n",
      "\n",
      "('cushes', [])\n",
      "    cushes don't have tokens co-occured with at least 20 times \n",
      "\n",
      "('faction', [])\n",
      "    faction don't have tokens co-occured with at least 20 times \n",
      "\n",
      "('forest', [('of', 24, 0.37715848724222506), ('the', 54, 0.534306763108721)])\n",
      "    n(forest,of) = 24,  PMI(forest,of) = 0.37715848724222506 \n",
      "\n",
      "    n(forest,the) = 54,  PMI(forest,the) = 0.534306763108721 \n",
      "\n",
      "('hound', [])\n",
      "    hound don't have tokens co-occured with at least 20 times \n",
      "\n",
      "('philippan', [])\n",
      "    philippan don't have tokens co-occured with at least 20 times \n",
      "\n",
      "('quillets', [])\n",
      "    quillets don't have tokens co-occured with at least 20 times \n",
      "\n",
      "('sayst', [])\n",
      "    sayst don't have tokens co-occured with at least 20 times \n",
      "\n",
      "('tyburn', [])\n",
      "    tyburn don't have tokens co-occured with at least 20 times \n",
      "\n"
     ]
    }
   ],
   "source": [
    "# your solution to Question 6 here\n",
    "from simple_tokenize import simple_tokenize\n",
    "from itertools import permutations\n",
    "from operator import add\n",
    "from math import log\n",
    "\n",
    "def simple_pairize(line):\n",
    "    t = simple_tokenize(line)\n",
    "    pairs=[]\n",
    "    for pair in permutations(set(t), 2):\n",
    "        pairs.append(pair)\n",
    "    return pairs\n",
    "\n",
    "def PMI(x):\n",
    "    p=(x[1]/num_pairs)/(tokens[x[0][0]]*tokens[x[0][1]])\n",
    "    return (x[0][0],(x[0][1],x[1],log(p,10)))\n",
    "\n",
    "def f(x):\n",
    "    y=[]\n",
    "    for item in x:\n",
    "        if item[1]>=threshold:\n",
    "            y.append(item)\n",
    "    return y\n",
    "\n",
    "while True:\n",
    "    try:\n",
    "        threshold = input(\"Input a positive integer frequency threshold(press return to exit): \")\n",
    "        if len(threshold) == 0:\n",
    "            break\n",
    "        N = input(\"Input a positive integer sample size N: \")\n",
    "        if int(threshold) < 0 or int(N)<0:\n",
    "            continue\n",
    "        else:\n",
    "            threshold=int(threshold)\n",
    "            N=int(N)\n",
    "    except ValueError:\n",
    "        print(\"Threshold and N must be a positive integer!\")\n",
    "        continue\n",
    "    \n",
    "    # Spark park    \n",
    "    text=sc.textFile(\"Shakespeare.txt\")\n",
    "    \n",
    "    num_tokens=text.flatMap(simple_tokenize).count()\n",
    "    num_pairs=text.flatMap(simple_pairize).count()\n",
    "    \n",
    "    tokens=text.flatMap(simple_tokenize) \\\n",
    "                 .map(lambda word: (word, 1)) \\\n",
    "                 .reduceByKey(add).mapValues(lambda x: x/num_tokens).collectAsMap()\n",
    "    \n",
    "    pairs=text.flatMap(simple_pairize) \\\n",
    "        .map(lambda pair: (pair, 1)) \\\n",
    "        .reduceByKey(add)\\\n",
    "        .map(PMI)\\\n",
    "        .groupByKey()\\\n",
    "        .mapValues(f)\\\n",
    "        .takeSample(False,N,seed=123)\n",
    "        \n",
    "    result=sorted([(x, sorted(y)) for (x, y) in pairs])\n",
    "    for item in result:\n",
    "        print(item)\n",
    "        if len(item[1])>0:\n",
    "            for i in item[1]:\n",
    "                print(\"    n({0},{1}) = {2},  PMI({0},{1}) = {3}\".format(\\\n",
    "                    item[0], i[0], i[1],i[2]),\"\\n\")\n",
    "        else:\n",
    "            print(\"    {0} don't have tokens co-occured with at least {1} times\".format(\\\n",
    "                    item[0], threshold),\"\\n\")"
   ]
  },
  {
   "cell_type": "markdown",
   "metadata": {},
   "source": [
    "---\n",
    "Don't forget to save your workbook!   When you are finished and you are ready to submit your assignment, download your notebook file (.ipynb) from the hub to your machine, and then follow the submission instructions in the assignment."
   ]
  }
 ],
 "metadata": {
  "kernelspec": {
   "display_name": "Python 3",
   "language": "python",
   "name": "python3"
  },
  "language_info": {
   "codemirror_mode": {
    "name": "ipython",
    "version": 3
   },
   "file_extension": ".py",
   "mimetype": "text/x-python",
   "name": "python",
   "nbconvert_exporter": "python",
   "pygments_lexer": "ipython3",
   "version": "3.5.2"
  }
 },
 "nbformat": 4,
 "nbformat_minor": 2
}
